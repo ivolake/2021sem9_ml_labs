{
  "nbformat": 4,
  "nbformat_minor": 0,
  "metadata": {
    "colab": {
      "name": "CGZ_LW4",
      "provenance": [],
      "collapsed_sections": [],
      "authorship_tag": "ABX9TyNAn3dTTfAQ7d08CsrsETgg",
      "include_colab_link": true
    },
    "kernelspec": {
      "name": "python3",
      "display_name": "Python 3"
    },
    "language_info": {
      "name": "python"
    },
    "widgets": {
      "application/vnd.jupyter.widget-state+json": {
        "1d316bbab3ce42148d1f6f8b4cca1313": {
          "model_module": "@jupyter-widgets/controls",
          "model_name": "ImageModel",
          "model_module_version": "1.5.0",
          "state": {
            "_view_name": "ImageView",
            "_dom_classes": [],
            "_model_name": "ImageModel",
            "format": "png",
            "_view_module": "@jupyter-widgets/controls",
            "_model_module_version": "1.5.0",
            "_view_count": null,
            "width": "",
            "_view_module_version": "1.5.0",
            "layout": "IPY_MODEL_0299c008e762476697e4fb1852b9fdc4",
            "height": "",
            "_model_module": "@jupyter-widgets/controls"
          }
        },
        "0299c008e762476697e4fb1852b9fdc4": {
          "model_module": "@jupyter-widgets/base",
          "model_name": "LayoutModel",
          "model_module_version": "1.2.0",
          "state": {
            "_view_name": "LayoutView",
            "grid_template_rows": null,
            "right": null,
            "justify_content": null,
            "_view_module": "@jupyter-widgets/base",
            "overflow": null,
            "_model_module_version": "1.2.0",
            "_view_count": null,
            "flex_flow": null,
            "width": null,
            "min_width": null,
            "border": null,
            "align_items": null,
            "bottom": null,
            "_model_module": "@jupyter-widgets/base",
            "top": null,
            "grid_column": null,
            "overflow_y": null,
            "overflow_x": null,
            "grid_auto_flow": null,
            "grid_area": null,
            "grid_template_columns": null,
            "flex": null,
            "_model_name": "LayoutModel",
            "justify_items": null,
            "grid_row": null,
            "max_height": null,
            "align_content": null,
            "visibility": null,
            "align_self": null,
            "height": null,
            "min_height": null,
            "padding": null,
            "grid_auto_rows": null,
            "grid_gap": null,
            "max_width": null,
            "order": null,
            "_view_module_version": "1.2.0",
            "grid_template_areas": null,
            "object_position": null,
            "object_fit": null,
            "grid_auto_columns": null,
            "margin": null,
            "display": null,
            "left": null
          }
        }
      }
    }
  },
  "cells": [
    {
      "cell_type": "markdown",
      "metadata": {
        "id": "view-in-github",
        "colab_type": "text"
      },
      "source": [
        "<a href=\"https://colab.research.google.com/github/ivolake/2021sem9_ml_labs/blob/main/CGZ_LW4.ipynb\" target=\"_parent\"><img src=\"https://colab.research.google.com/assets/colab-badge.svg\" alt=\"Open In Colab\"/></a>"
      ]
    },
    {
      "cell_type": "markdown",
      "source": [
        "https://slides.com/romvano/lab4/fullscreen"
      ],
      "metadata": {
        "id": "BpHdINiKPz3b"
      }
    },
    {
      "cell_type": "code",
      "metadata": {
        "colab": {
          "base_uri": "https://localhost:8080/"
        },
        "id": "ldyisr9_yt9b",
        "outputId": "6f33cb4b-cb07-400f-cc5b-5e5b1c0f1499"
      },
      "source": [
        "1+1"
      ],
      "execution_count": 1,
      "outputs": [
        {
          "output_type": "execute_result",
          "data": {
            "text/plain": [
              "2"
            ]
          },
          "metadata": {},
          "execution_count": 1
        }
      ]
    },
    {
      "cell_type": "code",
      "metadata": {
        "id": "s-T-MuBmrXuB",
        "colab": {
          "base_uri": "https://localhost:8080/",
          "height": 17
        },
        "outputId": "48bd6305-c5e7-478a-fc0c-0ce0548dd199"
      },
      "source": [
        "from collections import Counter\n",
        "import pickle\n",
        "import operator as op\n",
        "\n",
        "import pandas as pd\n",
        "import numpy as np\n",
        "import matplotlib.pyplot as plt\n",
        "%matplotlib inline\n",
        "import seaborn as sns\n",
        "from IPython.core.pylabtools import figsize\n",
        "import plotly.express as px\n",
        "import seaborn as sns\n",
        "import plotly.express as px\n",
        "import plotly.graph_objects as go\n",
        "import plotly.io as pio\n",
        "from plotly.offline import iplot, init_notebook_mode\n",
        "\n",
        "# figsize(8, 8) # зададим размер картинки\n",
        "init_notebook_mode(connected=True)\n",
        "pio.renderers.default='notebook'\n",
        "\n",
        "\n",
        "from sklearn.decomposition import PCA\n",
        "from sklearn.pipeline import Pipeline, make_pipeline\n",
        "from sklearn.preprocessing import MinMaxScaler, FunctionTransformer\n",
        "from sklearn.model_selection import train_test_split, KFold, StratifiedKFold, ShuffleSplit, StratifiedShuffleSplit, LeaveOneOut, cross_val_score\n",
        "# from sklearn.linear_model import LogisticRegression\n",
        "# from sklearn.neighbors import KNeighborsClassifier\n",
        "from sklearn.tree import DecisionTreeClassifier\n",
        "from sklearn.ensemble import RandomForestClassifier\n",
        "from sklearn.ensemble import BaggingClassifier\n",
        "# from sklearn.linear_model import SGDClassifier\n",
        "# from sklearn.svm import SVC\n",
        "# from sklearn.naive_bayes import GaussianNB\n",
        "from sklearn import metrics\n",
        "from sklearn.metrics import classification_report, accuracy_score, \\\n",
        "                            precision_score, recall_score, \\\n",
        "                            precision_recall_curve, roc_auc_score, f1_score, \\\n",
        "                            fbeta_score, auc, \\\n",
        "                            make_scorer\n",
        "\n",
        "from ipywidgets import Image\n",
        "from io import StringIO\n",
        "import pydotplus\n",
        "from sklearn.tree import export_graphviz\n",
        "\n",
        "# import os\n",
        "# from glob import glob\n",
        "\n",
        "from google.colab import drive\n"
      ],
      "execution_count": 57,
      "outputs": [
        {
          "output_type": "display_data",
          "data": {
            "text/html": [
              "        <script type=\"text/javascript\">\n",
              "        window.PlotlyConfig = {MathJaxConfig: 'local'};\n",
              "        if (window.MathJax) {MathJax.Hub.Config({SVG: {font: \"STIX-Web\"}});}\n",
              "        if (typeof require !== 'undefined') {\n",
              "        require.undef(\"plotly\");\n",
              "        requirejs.config({\n",
              "            paths: {\n",
              "                'plotly': ['https://cdn.plot.ly/plotly-latest.min']\n",
              "            }\n",
              "        });\n",
              "        require(['plotly'], function(Plotly) {\n",
              "            window._Plotly = Plotly;\n",
              "        });\n",
              "        }\n",
              "        </script>\n",
              "        "
            ]
          },
          "metadata": {}
        }
      ]
    },
    {
      "cell_type": "code",
      "metadata": {
        "colab": {
          "base_uri": "https://localhost:8080/"
        },
        "id": "wl9VnhSBiQdp",
        "outputId": "53ae8bcd-a85a-465c-bf2a-5d15b8ddb13f"
      },
      "source": [
        "drive.mount ('/content/drive')\n"
      ],
      "execution_count": 4,
      "outputs": [
        {
          "output_type": "stream",
          "name": "stdout",
          "text": [
            "Mounted at /content/drive\n"
          ]
        }
      ]
    },
    {
      "cell_type": "code",
      "source": [
        "# установим некоторые пакеты, которые понадобятся для удобного отображения дерева\n",
        "# чтобы следующий код заработал на винде, нужно установить программулину:\n",
        "# https://graphviz.gitlab.io/_pages/Download/Download_windows.html\n",
        "\n",
        "import os\n",
        "if os.name == 'mac':\n",
        "    !xcode-select --install\n",
        "    !/usr/bin/ruby -e \"$(curl -fsSL https://raw.githubusercontent.com/Homebrew/install/master/install)\"\n",
        "    !brew install graphviz\n",
        "\n",
        "!pip install graphviz\n",
        "if os.name == 'nt':\n",
        "    os.environ['PATH'] += os.pathsep + 'C:/Program Files (x86)/Graphviz2.38/bin'\n",
        "\n",
        "!pip install pydotplus"
      ],
      "metadata": {
        "colab": {
          "base_uri": "https://localhost:8080/"
        },
        "id": "W4DP1Ff2bROe",
        "outputId": "66890208-de03-4c33-a3c8-cad14f1f8412"
      },
      "execution_count": 5,
      "outputs": [
        {
          "output_type": "stream",
          "name": "stdout",
          "text": [
            "Requirement already satisfied: graphviz in /usr/local/lib/python3.7/dist-packages (0.10.1)\n",
            "Requirement already satisfied: pydotplus in /usr/local/lib/python3.7/dist-packages (2.0.2)\n",
            "Requirement already satisfied: pyparsing>=2.0.1 in /usr/local/lib/python3.7/dist-packages (from pydotplus) (3.0.6)\n"
          ]
        }
      ]
    },
    {
      "cell_type": "markdown",
      "metadata": {
        "id": "QNCCZKkT71eK"
      },
      "source": [
        "Импорт библиотек, подключение диска"
      ]
    },
    {
      "cell_type": "code",
      "metadata": {
        "id": "wxn07lAYbB-C"
      },
      "source": [
        "my_path = '/content/drive/MyDrive/drive' # '/content/drive/MyDrive/data'"
      ],
      "execution_count": 8,
      "outputs": []
    },
    {
      "cell_type": "code",
      "metadata": {
        "id": "bYs1wporiB32"
      },
      "source": [
        "df = pd.read_csv(f'{my_path}/voice.csv')"
      ],
      "execution_count": 9,
      "outputs": []
    },
    {
      "cell_type": "code",
      "metadata": {
        "colab": {
          "base_uri": "https://localhost:8080/",
          "height": 224
        },
        "id": "LJFD0hjOACg9",
        "outputId": "fbb981d5-b927-49a7-87a4-daaa6905c661"
      },
      "source": [
        "df.head()"
      ],
      "execution_count": 10,
      "outputs": [
        {
          "output_type": "execute_result",
          "data": {
            "text/html": [
              "<div>\n",
              "<style scoped>\n",
              "    .dataframe tbody tr th:only-of-type {\n",
              "        vertical-align: middle;\n",
              "    }\n",
              "\n",
              "    .dataframe tbody tr th {\n",
              "        vertical-align: top;\n",
              "    }\n",
              "\n",
              "    .dataframe thead th {\n",
              "        text-align: right;\n",
              "    }\n",
              "</style>\n",
              "<table border=\"1\" class=\"dataframe\">\n",
              "  <thead>\n",
              "    <tr style=\"text-align: right;\">\n",
              "      <th></th>\n",
              "      <th>meanfreq</th>\n",
              "      <th>sd</th>\n",
              "      <th>median</th>\n",
              "      <th>Q25</th>\n",
              "      <th>Q75</th>\n",
              "      <th>IQR</th>\n",
              "      <th>skew</th>\n",
              "      <th>kurt</th>\n",
              "      <th>sp.ent</th>\n",
              "      <th>sfm</th>\n",
              "      <th>mode</th>\n",
              "      <th>centroid</th>\n",
              "      <th>meanfun</th>\n",
              "      <th>minfun</th>\n",
              "      <th>maxfun</th>\n",
              "      <th>meandom</th>\n",
              "      <th>mindom</th>\n",
              "      <th>maxdom</th>\n",
              "      <th>dfrange</th>\n",
              "      <th>modindx</th>\n",
              "      <th>label</th>\n",
              "    </tr>\n",
              "  </thead>\n",
              "  <tbody>\n",
              "    <tr>\n",
              "      <th>0</th>\n",
              "      <td>0.059781</td>\n",
              "      <td>0.064241</td>\n",
              "      <td>0.032027</td>\n",
              "      <td>0.015071</td>\n",
              "      <td>0.090193</td>\n",
              "      <td>0.075122</td>\n",
              "      <td>12.863462</td>\n",
              "      <td>274.402906</td>\n",
              "      <td>0.893369</td>\n",
              "      <td>0.491918</td>\n",
              "      <td>0.000000</td>\n",
              "      <td>0.059781</td>\n",
              "      <td>0.084279</td>\n",
              "      <td>0.015702</td>\n",
              "      <td>0.275862</td>\n",
              "      <td>0.007812</td>\n",
              "      <td>0.007812</td>\n",
              "      <td>0.007812</td>\n",
              "      <td>0.000000</td>\n",
              "      <td>0.000000</td>\n",
              "      <td>male</td>\n",
              "    </tr>\n",
              "    <tr>\n",
              "      <th>1</th>\n",
              "      <td>0.066009</td>\n",
              "      <td>0.067310</td>\n",
              "      <td>0.040229</td>\n",
              "      <td>0.019414</td>\n",
              "      <td>0.092666</td>\n",
              "      <td>0.073252</td>\n",
              "      <td>22.423285</td>\n",
              "      <td>634.613855</td>\n",
              "      <td>0.892193</td>\n",
              "      <td>0.513724</td>\n",
              "      <td>0.000000</td>\n",
              "      <td>0.066009</td>\n",
              "      <td>0.107937</td>\n",
              "      <td>0.015826</td>\n",
              "      <td>0.250000</td>\n",
              "      <td>0.009014</td>\n",
              "      <td>0.007812</td>\n",
              "      <td>0.054688</td>\n",
              "      <td>0.046875</td>\n",
              "      <td>0.052632</td>\n",
              "      <td>male</td>\n",
              "    </tr>\n",
              "    <tr>\n",
              "      <th>2</th>\n",
              "      <td>0.077316</td>\n",
              "      <td>0.083829</td>\n",
              "      <td>0.036718</td>\n",
              "      <td>0.008701</td>\n",
              "      <td>0.131908</td>\n",
              "      <td>0.123207</td>\n",
              "      <td>30.757155</td>\n",
              "      <td>1024.927705</td>\n",
              "      <td>0.846389</td>\n",
              "      <td>0.478905</td>\n",
              "      <td>0.000000</td>\n",
              "      <td>0.077316</td>\n",
              "      <td>0.098706</td>\n",
              "      <td>0.015656</td>\n",
              "      <td>0.271186</td>\n",
              "      <td>0.007990</td>\n",
              "      <td>0.007812</td>\n",
              "      <td>0.015625</td>\n",
              "      <td>0.007812</td>\n",
              "      <td>0.046512</td>\n",
              "      <td>male</td>\n",
              "    </tr>\n",
              "    <tr>\n",
              "      <th>3</th>\n",
              "      <td>0.151228</td>\n",
              "      <td>0.072111</td>\n",
              "      <td>0.158011</td>\n",
              "      <td>0.096582</td>\n",
              "      <td>0.207955</td>\n",
              "      <td>0.111374</td>\n",
              "      <td>1.232831</td>\n",
              "      <td>4.177296</td>\n",
              "      <td>0.963322</td>\n",
              "      <td>0.727232</td>\n",
              "      <td>0.083878</td>\n",
              "      <td>0.151228</td>\n",
              "      <td>0.088965</td>\n",
              "      <td>0.017798</td>\n",
              "      <td>0.250000</td>\n",
              "      <td>0.201497</td>\n",
              "      <td>0.007812</td>\n",
              "      <td>0.562500</td>\n",
              "      <td>0.554688</td>\n",
              "      <td>0.247119</td>\n",
              "      <td>male</td>\n",
              "    </tr>\n",
              "    <tr>\n",
              "      <th>4</th>\n",
              "      <td>0.135120</td>\n",
              "      <td>0.079146</td>\n",
              "      <td>0.124656</td>\n",
              "      <td>0.078720</td>\n",
              "      <td>0.206045</td>\n",
              "      <td>0.127325</td>\n",
              "      <td>1.101174</td>\n",
              "      <td>4.333713</td>\n",
              "      <td>0.971955</td>\n",
              "      <td>0.783568</td>\n",
              "      <td>0.104261</td>\n",
              "      <td>0.135120</td>\n",
              "      <td>0.106398</td>\n",
              "      <td>0.016931</td>\n",
              "      <td>0.266667</td>\n",
              "      <td>0.712812</td>\n",
              "      <td>0.007812</td>\n",
              "      <td>5.484375</td>\n",
              "      <td>5.476562</td>\n",
              "      <td>0.208274</td>\n",
              "      <td>male</td>\n",
              "    </tr>\n",
              "  </tbody>\n",
              "</table>\n",
              "</div>"
            ],
            "text/plain": [
              "   meanfreq        sd    median       Q25  ...    maxdom   dfrange   modindx  label\n",
              "0  0.059781  0.064241  0.032027  0.015071  ...  0.007812  0.000000  0.000000   male\n",
              "1  0.066009  0.067310  0.040229  0.019414  ...  0.054688  0.046875  0.052632   male\n",
              "2  0.077316  0.083829  0.036718  0.008701  ...  0.015625  0.007812  0.046512   male\n",
              "3  0.151228  0.072111  0.158011  0.096582  ...  0.562500  0.554688  0.247119   male\n",
              "4  0.135120  0.079146  0.124656  0.078720  ...  5.484375  5.476562  0.208274   male\n",
              "\n",
              "[5 rows x 21 columns]"
            ]
          },
          "metadata": {},
          "execution_count": 10
        }
      ]
    },
    {
      "cell_type": "code",
      "metadata": {
        "colab": {
          "base_uri": "https://localhost:8080/"
        },
        "id": "5VLbkFATugbL",
        "outputId": "137b6065-19d5-44e8-aa8b-a18f60c6788d"
      },
      "source": [
        "df['label'].value_counts()"
      ],
      "execution_count": 11,
      "outputs": [
        {
          "output_type": "execute_result",
          "data": {
            "text/plain": [
              "male      1584\n",
              "female    1584\n",
              "Name: label, dtype: int64"
            ]
          },
          "metadata": {},
          "execution_count": 11
        }
      ]
    },
    {
      "cell_type": "code",
      "metadata": {
        "id": "aUvP2XTCnqLS"
      },
      "source": [
        "feats = list(set(df.columns) - set(['label']))"
      ],
      "execution_count": 12,
      "outputs": []
    },
    {
      "cell_type": "markdown",
      "metadata": {
        "id": "omtKWPsjvupn"
      },
      "source": [
        "Обычное разбиение выборок"
      ]
    },
    {
      "cell_type": "code",
      "metadata": {
        "id": "4Y5raVPfnQaL"
      },
      "source": [
        "X_train, X_test, y_train, y_test = train_test_split(df[feats], \n",
        "                                                    df['label'], \n",
        "                                                    test_size=0.33, \n",
        "                                                    random_state=42,\n",
        "                                                    stratify=df['label'])"
      ],
      "execution_count": 13,
      "outputs": []
    },
    {
      "cell_type": "markdown",
      "source": [
        "## Убедиться в нестабильности одиночного дерева на своих данных"
      ],
      "metadata": {
        "id": "8b4a-ru-Yz1P"
      }
    },
    {
      "cell_type": "code",
      "metadata": {
        "id": "Ytnqbsjl36-R"
      },
      "source": [
        "# f1_scorer = make_scorer(fbeta_score, beta=1, greater_is_better = True, pos_label='male')"
      ],
      "execution_count": 7,
      "outputs": []
    },
    {
      "cell_type": "code",
      "metadata": {
        "id": "k2DVCAZ7yhRx"
      },
      "source": [
        "estimator = DecisionTreeClassifier(criterion='entropy', max_depth=3, random_state=42)"
      ],
      "execution_count": 14,
      "outputs": []
    },
    {
      "cell_type": "code",
      "metadata": {
        "colab": {
          "base_uri": "https://localhost:8080/"
        },
        "id": "mB4yGzboyH8H",
        "outputId": "6766f3e1-7073-40a7-83a7-aa8380151358"
      },
      "source": [
        "# pipeline = make_pipeline(\n",
        "#     # FunctionTransformer(dropper, validate=False),                 # добавили удаление признаков в пайплайн;\n",
        "#     MinMaxScaler(),\n",
        "#     estimator\n",
        "# )\n",
        "# pipeline"
      ],
      "execution_count": 15,
      "outputs": [
        {
          "output_type": "execute_result",
          "data": {
            "text/plain": [
              "Pipeline(steps=[('minmaxscaler', MinMaxScaler()),\n",
              "                ('decisiontreeclassifier',\n",
              "                 DecisionTreeClassifier(criterion='entropy', max_depth=3,\n",
              "                                        random_state=42))])"
            ]
          },
          "metadata": {},
          "execution_count": 15
        }
      ]
    },
    {
      "cell_type": "code",
      "source": [
        "labels = {'female': 0, 'male': 1}"
      ],
      "metadata": {
        "id": "c_8aI0A5ql5e"
      },
      "execution_count": null,
      "outputs": []
    },
    {
      "cell_type": "code",
      "metadata": {
        "id": "DXZht343_zUO",
        "colab": {
          "base_uri": "https://localhost:8080/"
        },
        "outputId": "6eba93f2-edb2-41aa-a4d2-ba08ce7d8b3e"
      },
      "source": [
        "# Качества дерева на обучении\n",
        "# scoring = cross_val_score(estimator=pipeline, \n",
        "#                           X=X_train, \n",
        "#                           y=y_train, \n",
        "#                           scoring=f1_scorer, )\n",
        "#                           # cv=sss)\n",
        "# scoring.mean()\n",
        "estimator.fit(X_train, y_train)\n",
        "predictions1 = estimator.predict(X_train)\n",
        "print(f1_score([labels[e] for e in predictions1], [labels[e] for e in y_train]))"
      ],
      "execution_count": 42,
      "outputs": [
        {
          "output_type": "stream",
          "name": "stdout",
          "text": [
            "0.9619181946403386\n"
          ]
        }
      ]
    },
    {
      "cell_type": "code",
      "source": [
        "# используем .dot формат для визуализации дерева\n",
        "dot_data = StringIO()\n",
        "export_graphviz(estimator, feature_names=X_train.columns, # pipeline.steps[1][1]\n",
        "                out_file=dot_data, filled=True)\n",
        "graph = pydotplus.graph_from_dot_data(dot_data.getvalue())  \n",
        "Image(value=graph.create_png())"
      ],
      "metadata": {
        "colab": {
          "base_uri": "https://localhost:8080/",
          "height": 460,
          "referenced_widgets": [
            "1d316bbab3ce42148d1f6f8b4cca1313",
            "0299c008e762476697e4fb1852b9fdc4"
          ]
        },
        "id": "0aPL-HYpbl8A",
        "outputId": "56b2c48c-829a-4712-9d38-6047ad0cb5d4"
      },
      "execution_count": 21,
      "outputs": [
        {
          "output_type": "display_data",
          "data": {
            "application/vnd.jupyter.widget-view+json": {
              "model_id": "1d316bbab3ce42148d1f6f8b4cca1313",
              "version_minor": 0,
              "version_major": 2
            },
            "text/plain": [
              "Image(value=b'\\x89PNG\\r\\n\\x1a\\n\\x00\\x00\\x00\\rIHDR\\x00\\x00\\x05\\xa3\\x00\\x00\\x01\\xf1\\x08\\x06\\x00\\x00\\x00p\\n\\xa0\\x…"
            ]
          },
          "metadata": {}
        }
      ]
    },
    {
      "cell_type": "markdown",
      "source": [
        "Смотрим на тестовые данные"
      ],
      "metadata": {
        "id": "c9dDtG_9cq82"
      }
    },
    {
      "cell_type": "code",
      "source": [
        "predictions2 = estimator.predict(X_test)\n",
        "print(f1_score([labels[e] for e in predictions2], [labels[e] for e in y_test]))"
      ],
      "metadata": {
        "colab": {
          "base_uri": "https://localhost:8080/"
        },
        "id": "PNwla5B4cv2G",
        "outputId": "eaf92d02-15d6-4399-b049-3e3ec3287502"
      },
      "execution_count": 43,
      "outputs": [
        {
          "output_type": "stream",
          "name": "stdout",
          "text": [
            "0.9653846153846154\n"
          ]
        }
      ]
    },
    {
      "cell_type": "markdown",
      "source": [
        "Немного обфусцируем данные с помощью PCA, чтобы более наглядно убедиться в нестабильности дерева"
      ],
      "metadata": {
        "id": "mg8iEoG6dJE-"
      }
    },
    {
      "cell_type": "code",
      "source": [
        "pca = PCA(n_components=2)\n",
        "\n",
        "X_train_pca = pca.fit_transform(X_train)\n",
        "X_test_pca = pca.fit_transform(X_test)"
      ],
      "metadata": {
        "id": "1h8DphyWq-Oj"
      },
      "execution_count": 44,
      "outputs": []
    },
    {
      "cell_type": "code",
      "source": [
        "plt.scatter(X_train_pca[:, 0], X_train_pca[:, 1], c=y_train.map(labels), cmap='autumn', edgecolors='black');"
      ],
      "metadata": {
        "colab": {
          "base_uri": "https://localhost:8080/",
          "height": 265
        },
        "id": "SwEjefZSrJrC",
        "outputId": "ee894f54-9732-49d3-d836-1b4dfb3e6100"
      },
      "execution_count": 48,
      "outputs": [
        {
          "output_type": "display_data",
          "data": {
            "image/png": "[encoded data removed]",
            "text/plain": [
              "<Figure size 432x288 with 1 Axes>"
            ]
          },
          "metadata": {
            "needs_background": "light"
          }
        }
      ]
    },
    {
      "cell_type": "markdown",
      "source": [
        "Как можно заметить, разделить классы на двух главных компонентах сложно "
      ],
      "metadata": {
        "id": "C2HMgiilrJum"
      }
    },
    {
      "cell_type": "code",
      "source": [
        "def get_grid(data, eps=0.01):\n",
        "    x_min, x_max = data[:, 0].min() - 1, data[:, 0].max() + 1\n",
        "    y_min, y_max = data[:, 1].min() - 1, data[:, 1].max() + 1\n",
        "    return np.meshgrid(np.arange(x_min, x_max, eps),\n",
        "                         np.arange(y_min, y_max, eps))"
      ],
      "metadata": {
        "id": "fDm2J7mCsHQ_"
      },
      "execution_count": 50,
      "outputs": []
    },
    {
      "cell_type": "code",
      "source": [
        "estimator_on_pca = DecisionTreeClassifier(criterion='entropy', max_depth=3, random_state=42).fit(X_train_pca, y_train)\n"
      ],
      "metadata": {
        "id": "jOjFbVJkrJxj"
      },
      "execution_count": 54,
      "outputs": []
    },
    {
      "cell_type": "code",
      "source": [
        "# xx, yy = get_grid(X_train_pca, eps=.05)\n",
        "# predicted = estimator_on_pca.predict(np.c_[xx.ravel(), yy.ravel()]).reshape(xx.shape)\n",
        "# plt.pcolormesh(xx, yy, predicted, cmap='autumn')\n",
        "# plt.scatter(X_train_pca[:, 0], X_train_pca[:, 1], c=y_train.map(labels), s=100, \n",
        "#             cmap='autumn', edgecolors='black', linewidth=1.5)\n",
        "# # plt.title('Easy task. Decision tree compexifies everything');"
      ],
      "metadata": {
        "id": "WU7y5A4osa9J"
      },
      "execution_count": null,
      "outputs": []
    },
    {
      "cell_type": "code",
      "source": [
        "predictions1 = estimator_on_pca.predict(X_train_pca)\n",
        "print(f1_score([labels[e] for e in predictions1], [labels[e] for e in y_train]))"
      ],
      "metadata": {
        "colab": {
          "base_uri": "https://localhost:8080/"
        },
        "id": "z15DhNpdrJ0X",
        "outputId": "2d1ca836-dc79-41b0-8f09-2df759d07fb3"
      },
      "execution_count": 55,
      "outputs": [
        {
          "output_type": "stream",
          "name": "stdout",
          "text": [
            "0.614207650273224\n"
          ]
        }
      ]
    },
    {
      "cell_type": "code",
      "source": [
        "predictions2 = estimator_on_pca.predict(X_test_pca)\n",
        "print(f1_score([labels[e] for e in predictions2], [labels[e] for e in y_test]))"
      ],
      "metadata": {
        "colab": {
          "base_uri": "https://localhost:8080/"
        },
        "id": "AWOH8MMarJ3E",
        "outputId": "6132bd31-d29b-4b8c-fd53-e2635f573a7b"
      },
      "execution_count": 56,
      "outputs": [
        {
          "output_type": "stream",
          "name": "stdout",
          "text": [
            "0.5760000000000001\n"
          ]
        }
      ]
    },
    {
      "cell_type": "markdown",
      "source": [
        "## Отобрать самые важные признаки случайным лесом, сравнить результат с отбором признаков линейным методом с L_1-регуляризацией"
      ],
      "metadata": {
        "id": "kEQ_34njYzrF"
      }
    },
    {
      "cell_type": "code",
      "source": [
        "RandomForestClassifier(n_estimators=100, \n",
        "                       criterion='gini', \n",
        "                       max_depth=None, \n",
        "                       min_samples_split=2, \n",
        "                       min_samples_leaf=1)"
      ],
      "metadata": {
        "id": "fxRRHD1is6tj"
      },
      "execution_count": null,
      "outputs": []
    },
    {
      "cell_type": "code",
      "source": [
        ""
      ],
      "metadata": {
        "id": "gXh7UQOns600"
      },
      "execution_count": null,
      "outputs": []
    },
    {
      "cell_type": "code",
      "source": [
        ""
      ],
      "metadata": {
        "id": "rzzUnqhHs64m"
      },
      "execution_count": null,
      "outputs": []
    },
    {
      "cell_type": "code",
      "source": [
        ""
      ],
      "metadata": {
        "id": "LDoTBytds67c"
      },
      "execution_count": null,
      "outputs": []
    },
    {
      "cell_type": "markdown",
      "source": [
        "## Сравнить качество работы случайного леса без кросс-валидации с кросс-валидацией"
      ],
      "metadata": {
        "id": "UwgHVDtGYzUH"
      }
    },
    {
      "cell_type": "markdown",
      "source": [
        "# Сравнить качество работы и время обучения  (%%time в начале ячейки) леса с градиентным бустингом над решающими деревьями, при подобрав для каждого оптимальные параметры. Особо хорошо будет, если градиентный бустинг обучите на видеокарте"
      ],
      "metadata": {
        "id": "v89c1ltDYyp_"
      }
    },
    {
      "cell_type": "markdown",
      "metadata": {
        "id": "VKukTxhKwRDe"
      },
      "source": [
        "Создание стратегии кросс-валидации: стратифицированная с перемешиванием"
      ]
    },
    {
      "cell_type": "code",
      "metadata": {
        "id": "Xj2GfNcn1q6S"
      },
      "source": [
        "sss = StratifiedShuffleSplit(n_splits = 5, test_size = 0.2)\n",
        "# train_test_indicies = []\n",
        "# for train_indices, test_indices in sss.split(df[feats], df['label']):\n",
        "#     train_test_indicies.append({'train_indices': train_indices, \n",
        "#                                 'test_indices': test_indices})"
      ],
      "execution_count": null,
      "outputs": []
    }
  ]
}