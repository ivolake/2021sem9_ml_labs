{
  "nbformat": 4,
  "nbformat_minor": 0,
  "metadata": {
    "colab": {
      "name": "CGZ_LW3",
      "provenance": [],
      "collapsed_sections": [],
      "authorship_tag": "ABX9TyNAOoFBReSvpN1c4LqwJT+0",
      "include_colab_link": true
    },
    "kernelspec": {
      "name": "python3",
      "display_name": "Python 3"
    },
    "language_info": {
      "name": "python"
    }
  },
  "cells": [
    {
      "cell_type": "markdown",
      "metadata": {
        "id": "view-in-github",
        "colab_type": "text"
      },
      "source": [
        "<a href=\"https://colab.research.google.com/github/ivolake/2021sem9_ml_labs/blob/main/CGZ_LW3.ipynb\" target=\"_parent\"><img src=\"https://colab.research.google.com/assets/colab-badge.svg\" alt=\"Open In Colab\"/></a>"
      ]
    },
    {
      "cell_type": "markdown",
      "source": [
        "https://slides.com/romvano/lab3/fullscreen"
      ],
      "metadata": {
        "id": "C-k-Y1ash1eh"
      }
    },
    {
      "cell_type": "code",
      "metadata": {
        "colab": {
          "base_uri": "https://localhost:8080/"
        },
        "id": "ldyisr9_yt9b",
        "outputId": "92c94da8-015c-4167-f8f3-64faa7ee117b"
      },
      "source": [
        "1+1"
      ],
      "execution_count": null,
      "outputs": [
        {
          "output_type": "execute_result",
          "data": {
            "text/plain": [
              "2"
            ]
          },
          "metadata": {},
          "execution_count": 2
        }
      ]
    },
    {
      "cell_type": "code",
      "metadata": {
        "id": "s-T-MuBmrXuB",
        "colab": {
          "base_uri": "https://localhost:8080/",
          "height": 17
        },
        "outputId": "0a53f076-d7c7-400f-b3d6-f7e0defcae7f"
      },
      "source": [
        "from collections import Counter\n",
        "import pickle\n",
        "import operator as op\n",
        "\n",
        "import pandas as pd\n",
        "import numpy as np\n",
        "import matplotlib.pyplot as plt\n",
        "%matplotlib inline\n",
        "import seaborn as sns\n",
        "from IPython.core.pylabtools import figsize\n",
        "import plotly.express as px\n",
        "import seaborn as sns\n",
        "import plotly.express as px\n",
        "import plotly.graph_objects as go\n",
        "import plotly.io as pio\n",
        "from plotly.offline import iplot, init_notebook_mode\n",
        "\n",
        "# figsize(8, 8) # зададим размер картинки\n",
        "init_notebook_mode(connected=True)\n",
        "pio.renderers.default='notebook'\n",
        "\n",
        "\n",
        "from sklearn.decomposition import PCA\n",
        "from sklearn.pipeline import Pipeline, make_pipeline\n",
        "from sklearn.preprocessing import MinMaxScaler, FunctionTransformer\n",
        "from sklearn.model_selection import train_test_split, KFold, StratifiedKFold, ShuffleSplit, StratifiedShuffleSplit, LeaveOneOut, cross_val_score\n",
        "from sklearn.linear_model import LogisticRegression\n",
        "# from sklearn.neighbors import KNeighborsClassifier\n",
        "# from sklearn.tree import DecisionTreeClassifier\n",
        "# from sklearn.ensemble import RandomForestClassifier\n",
        "# from sklearn.linear_model import SGDClassifier\n",
        "# from sklearn.svm import SVC\n",
        "# from sklearn.naive_bayes import GaussianNB\n",
        "from sklearn import metrics\n",
        "from sklearn.metrics import classification_report, accuracy_score, \\\n",
        "                            precision_score, recall_score, \\\n",
        "                            precision_recall_curve, roc_auc_score, f1_score, \\\n",
        "                            fbeta_score, auc, \\\n",
        "                            make_scorer\n",
        "\n",
        "# from sklearn.tree import export_graphviz\n",
        "\n",
        "# import os\n",
        "# from glob import glob\n",
        "\n",
        "from google.colab import drive\n"
      ],
      "execution_count": null,
      "outputs": [
        {
          "output_type": "display_data",
          "data": {
            "text/html": [
              "        <script type=\"text/javascript\">\n",
              "        window.PlotlyConfig = {MathJaxConfig: 'local'};\n",
              "        if (window.MathJax) {MathJax.Hub.Config({SVG: {font: \"STIX-Web\"}});}\n",
              "        if (typeof require !== 'undefined') {\n",
              "        require.undef(\"plotly\");\n",
              "        requirejs.config({\n",
              "            paths: {\n",
              "                'plotly': ['https://cdn.plot.ly/plotly-latest.min']\n",
              "            }\n",
              "        });\n",
              "        require(['plotly'], function(Plotly) {\n",
              "            window._Plotly = Plotly;\n",
              "        });\n",
              "        }\n",
              "        </script>\n",
              "        "
            ]
          },
          "metadata": {}
        }
      ]
    },
    {
      "cell_type": "code",
      "metadata": {
        "colab": {
          "base_uri": "https://localhost:8080/"
        },
        "id": "wl9VnhSBiQdp",
        "outputId": "33896335-1c77-4f99-8851-87d4ebed4b4a"
      },
      "source": [
        "drive.mount ('/content/drive')\n"
      ],
      "execution_count": null,
      "outputs": [
        {
          "output_type": "stream",
          "name": "stdout",
          "text": [
            "Mounted at /content/drive\n"
          ]
        }
      ]
    },
    {
      "cell_type": "markdown",
      "metadata": {
        "id": "QNCCZKkT71eK"
      },
      "source": [
        "Импорт библиотек, подключение диска"
      ]
    },
    {
      "cell_type": "code",
      "metadata": {
        "id": "wxn07lAYbB-C"
      },
      "source": [
        "my_path = '/content/drive/MyDrive/drive' # '/content/drive/MyDrive/data'"
      ],
      "execution_count": null,
      "outputs": []
    },
    {
      "cell_type": "code",
      "metadata": {
        "id": "bYs1wporiB32"
      },
      "source": [
        "df = pd.read_csv(f'{my_path}/voice.csv')"
      ],
      "execution_count": null,
      "outputs": []
    },
    {
      "cell_type": "code",
      "metadata": {
        "colab": {
          "base_uri": "https://localhost:8080/",
          "height": 224
        },
        "id": "LJFD0hjOACg9",
        "outputId": "f595acdf-ed4d-4cb8-aa00-c85ce2d85fd1"
      },
      "source": [
        "df.head()"
      ],
      "execution_count": null,
      "outputs": [
        {
          "output_type": "execute_result",
          "data": {
            "text/html": [
              "<div>\n",
              "<style scoped>\n",
              "    .dataframe tbody tr th:only-of-type {\n",
              "        vertical-align: middle;\n",
              "    }\n",
              "\n",
              "    .dataframe tbody tr th {\n",
              "        vertical-align: top;\n",
              "    }\n",
              "\n",
              "    .dataframe thead th {\n",
              "        text-align: right;\n",
              "    }\n",
              "</style>\n",
              "<table border=\"1\" class=\"dataframe\">\n",
              "  <thead>\n",
              "    <tr style=\"text-align: right;\">\n",
              "      <th></th>\n",
              "      <th>meanfreq</th>\n",
              "      <th>sd</th>\n",
              "      <th>median</th>\n",
              "      <th>Q25</th>\n",
              "      <th>Q75</th>\n",
              "      <th>IQR</th>\n",
              "      <th>skew</th>\n",
              "      <th>kurt</th>\n",
              "      <th>sp.ent</th>\n",
              "      <th>sfm</th>\n",
              "      <th>mode</th>\n",
              "      <th>centroid</th>\n",
              "      <th>meanfun</th>\n",
              "      <th>minfun</th>\n",
              "      <th>maxfun</th>\n",
              "      <th>meandom</th>\n",
              "      <th>mindom</th>\n",
              "      <th>maxdom</th>\n",
              "      <th>dfrange</th>\n",
              "      <th>modindx</th>\n",
              "      <th>label</th>\n",
              "    </tr>\n",
              "  </thead>\n",
              "  <tbody>\n",
              "    <tr>\n",
              "      <th>0</th>\n",
              "      <td>0.059781</td>\n",
              "      <td>0.064241</td>\n",
              "      <td>0.032027</td>\n",
              "      <td>0.015071</td>\n",
              "      <td>0.090193</td>\n",
              "      <td>0.075122</td>\n",
              "      <td>12.863462</td>\n",
              "      <td>274.402906</td>\n",
              "      <td>0.893369</td>\n",
              "      <td>0.491918</td>\n",
              "      <td>0.000000</td>\n",
              "      <td>0.059781</td>\n",
              "      <td>0.084279</td>\n",
              "      <td>0.015702</td>\n",
              "      <td>0.275862</td>\n",
              "      <td>0.007812</td>\n",
              "      <td>0.007812</td>\n",
              "      <td>0.007812</td>\n",
              "      <td>0.000000</td>\n",
              "      <td>0.000000</td>\n",
              "      <td>male</td>\n",
              "    </tr>\n",
              "    <tr>\n",
              "      <th>1</th>\n",
              "      <td>0.066009</td>\n",
              "      <td>0.067310</td>\n",
              "      <td>0.040229</td>\n",
              "      <td>0.019414</td>\n",
              "      <td>0.092666</td>\n",
              "      <td>0.073252</td>\n",
              "      <td>22.423285</td>\n",
              "      <td>634.613855</td>\n",
              "      <td>0.892193</td>\n",
              "      <td>0.513724</td>\n",
              "      <td>0.000000</td>\n",
              "      <td>0.066009</td>\n",
              "      <td>0.107937</td>\n",
              "      <td>0.015826</td>\n",
              "      <td>0.250000</td>\n",
              "      <td>0.009014</td>\n",
              "      <td>0.007812</td>\n",
              "      <td>0.054688</td>\n",
              "      <td>0.046875</td>\n",
              "      <td>0.052632</td>\n",
              "      <td>male</td>\n",
              "    </tr>\n",
              "    <tr>\n",
              "      <th>2</th>\n",
              "      <td>0.077316</td>\n",
              "      <td>0.083829</td>\n",
              "      <td>0.036718</td>\n",
              "      <td>0.008701</td>\n",
              "      <td>0.131908</td>\n",
              "      <td>0.123207</td>\n",
              "      <td>30.757155</td>\n",
              "      <td>1024.927705</td>\n",
              "      <td>0.846389</td>\n",
              "      <td>0.478905</td>\n",
              "      <td>0.000000</td>\n",
              "      <td>0.077316</td>\n",
              "      <td>0.098706</td>\n",
              "      <td>0.015656</td>\n",
              "      <td>0.271186</td>\n",
              "      <td>0.007990</td>\n",
              "      <td>0.007812</td>\n",
              "      <td>0.015625</td>\n",
              "      <td>0.007812</td>\n",
              "      <td>0.046512</td>\n",
              "      <td>male</td>\n",
              "    </tr>\n",
              "    <tr>\n",
              "      <th>3</th>\n",
              "      <td>0.151228</td>\n",
              "      <td>0.072111</td>\n",
              "      <td>0.158011</td>\n",
              "      <td>0.096582</td>\n",
              "      <td>0.207955</td>\n",
              "      <td>0.111374</td>\n",
              "      <td>1.232831</td>\n",
              "      <td>4.177296</td>\n",
              "      <td>0.963322</td>\n",
              "      <td>0.727232</td>\n",
              "      <td>0.083878</td>\n",
              "      <td>0.151228</td>\n",
              "      <td>0.088965</td>\n",
              "      <td>0.017798</td>\n",
              "      <td>0.250000</td>\n",
              "      <td>0.201497</td>\n",
              "      <td>0.007812</td>\n",
              "      <td>0.562500</td>\n",
              "      <td>0.554688</td>\n",
              "      <td>0.247119</td>\n",
              "      <td>male</td>\n",
              "    </tr>\n",
              "    <tr>\n",
              "      <th>4</th>\n",
              "      <td>0.135120</td>\n",
              "      <td>0.079146</td>\n",
              "      <td>0.124656</td>\n",
              "      <td>0.078720</td>\n",
              "      <td>0.206045</td>\n",
              "      <td>0.127325</td>\n",
              "      <td>1.101174</td>\n",
              "      <td>4.333713</td>\n",
              "      <td>0.971955</td>\n",
              "      <td>0.783568</td>\n",
              "      <td>0.104261</td>\n",
              "      <td>0.135120</td>\n",
              "      <td>0.106398</td>\n",
              "      <td>0.016931</td>\n",
              "      <td>0.266667</td>\n",
              "      <td>0.712812</td>\n",
              "      <td>0.007812</td>\n",
              "      <td>5.484375</td>\n",
              "      <td>5.476562</td>\n",
              "      <td>0.208274</td>\n",
              "      <td>male</td>\n",
              "    </tr>\n",
              "  </tbody>\n",
              "</table>\n",
              "</div>"
            ],
            "text/plain": [
              "   meanfreq        sd    median       Q25  ...    maxdom   dfrange   modindx  label\n",
              "0  0.059781  0.064241  0.032027  0.015071  ...  0.007812  0.000000  0.000000   male\n",
              "1  0.066009  0.067310  0.040229  0.019414  ...  0.054688  0.046875  0.052632   male\n",
              "2  0.077316  0.083829  0.036718  0.008701  ...  0.015625  0.007812  0.046512   male\n",
              "3  0.151228  0.072111  0.158011  0.096582  ...  0.562500  0.554688  0.247119   male\n",
              "4  0.135120  0.079146  0.124656  0.078720  ...  5.484375  5.476562  0.208274   male\n",
              "\n",
              "[5 rows x 21 columns]"
            ]
          },
          "metadata": {},
          "execution_count": 6
        }
      ]
    },
    {
      "cell_type": "code",
      "metadata": {
        "colab": {
          "base_uri": "https://localhost:8080/"
        },
        "id": "5VLbkFATugbL",
        "outputId": "d73bc62a-0b17-4e2c-d7db-98b29134cf8c"
      },
      "source": [
        "df['label'].value_counts()"
      ],
      "execution_count": null,
      "outputs": [
        {
          "output_type": "execute_result",
          "data": {
            "text/plain": [
              "female    1584\n",
              "male      1584\n",
              "Name: label, dtype: int64"
            ]
          },
          "metadata": {},
          "execution_count": 7
        }
      ]
    },
    {
      "cell_type": "code",
      "metadata": {
        "id": "aUvP2XTCnqLS"
      },
      "source": [
        "feats = list(set(df.columns) - set(['label']))"
      ],
      "execution_count": null,
      "outputs": []
    },
    {
      "cell_type": "markdown",
      "metadata": {
        "id": "omtKWPsjvupn"
      },
      "source": [
        "Обычное разбиение выборок"
      ]
    },
    {
      "cell_type": "code",
      "metadata": {
        "id": "4Y5raVPfnQaL"
      },
      "source": [
        "X_train, X_test, y_train, y_test = train_test_split(df[feats], \n",
        "                                                    df['label'], \n",
        "                                                    test_size=0.33, \n",
        "                                                    random_state=42,\n",
        "                                                    stratify=df['label'])"
      ],
      "execution_count": null,
      "outputs": []
    },
    {
      "cell_type": "markdown",
      "metadata": {
        "id": "VKukTxhKwRDe"
      },
      "source": [
        "Создание стратегии кросс-валидации: стратифицированная с перемешиванием"
      ]
    },
    {
      "cell_type": "code",
      "metadata": {
        "id": "Xj2GfNcn1q6S"
      },
      "source": [
        "sss = StratifiedShuffleSplit(n_splits = 5, test_size = 0.2)\n",
        "# train_test_indicies = []\n",
        "# for train_indices, test_indices in sss.split(df[feats], df['label']):\n",
        "#     train_test_indicies.append({'train_indices': train_indices, \n",
        "#                                 'test_indices': test_indices})"
      ],
      "execution_count": null,
      "outputs": []
    },
    {
      "cell_type": "markdown",
      "metadata": {
        "id": "hp7_tuv_4s_w"
      },
      "source": [
        "Создание скорера для кросс-валидации\n"
      ]
    },
    {
      "cell_type": "code",
      "metadata": {
        "id": "Ytnqbsjl36-R"
      },
      "source": [
        "f1_scorer = make_scorer(fbeta_score, beta=1, greater_is_better = True, pos_label='male')"
      ],
      "execution_count": null,
      "outputs": []
    },
    {
      "cell_type": "code",
      "metadata": {
        "id": "k2DVCAZ7yhRx"
      },
      "source": [
        "estimator = LogisticRegression(random_state=42)"
      ],
      "execution_count": null,
      "outputs": []
    },
    {
      "cell_type": "code",
      "metadata": {
        "colab": {
          "base_uri": "https://localhost:8080/"
        },
        "id": "mB4yGzboyH8H",
        "outputId": "13c1873d-060b-452c-a4ea-ecea95980e0d"
      },
      "source": [
        "pipeline = make_pipeline(\n",
        "    # FunctionTransformer(dropper, validate=False),                 # добавили удаление признаков в пайплайн;\n",
        "    MinMaxScaler(),\n",
        "    estimator\n",
        ")\n",
        "pipeline"
      ],
      "execution_count": null,
      "outputs": [
        {
          "output_type": "execute_result",
          "data": {
            "text/plain": [
              "Pipeline(steps=[('minmaxscaler', MinMaxScaler()),\n",
              "                ('logisticregression', LogisticRegression(random_state=42))])"
            ]
          },
          "metadata": {},
          "execution_count": 13
        }
      ]
    },
    {
      "cell_type": "code",
      "metadata": {
        "id": "DXZht343_zUO"
      },
      "source": [
        "scoring = cross_val_score(estimator=pipeline, \n",
        "                          X=X_test, \n",
        "                          y=y_test, \n",
        "                          scoring=f1_scorer, \n",
        "                          cv=sss)"
      ],
      "execution_count": null,
      "outputs": []
    },
    {
      "cell_type": "code",
      "metadata": {
        "colab": {
          "base_uri": "https://localhost:8080/"
        },
        "id": "UEkmbaFJ_zRS",
        "outputId": "642729d7-af4a-469d-ba01-0d7e46826697"
      },
      "source": [
        "scoring.mean()"
      ],
      "execution_count": null,
      "outputs": [
        {
          "output_type": "execute_result",
          "data": {
            "text/plain": [
              "0.970659934449464"
            ]
          },
          "metadata": {},
          "execution_count": 17
        }
      ]
    },
    {
      "cell_type": "markdown",
      "metadata": {
        "id": "7TUxWI5p_yxT"
      },
      "source": [
        "График получившегося классификатора на пространстве с пониженной размерностью"
      ]
    },
    {
      "cell_type": "code",
      "metadata": {
        "id": "sKexVmNoyX8O"
      },
      "source": [
        "# Построим график, который покажет, как обучилась логистическая регрессия.\n",
        "def plot_boundary(clf, X, y):\n",
        "    xx, yy = np.meshgrid(np.linspace(-40, 40, 500),\n",
        "                     np.linspace(-40, 40, 500))\n",
        "    Z = clf.predict_proba(np.vstack((xx.ravel(), yy.ravel())).T)[:, 1].reshape(xx.shape)\n",
        "    image = plt.imshow(Z, interpolation='nearest',\n",
        "                           extent=(xx.min(), xx.max(), yy.min(), yy.max()),\n",
        "                           aspect='auto', origin='lower', cmap=plt.cm.PuOr_r)\n",
        "    contours = plt.contour(xx, yy, Z, levels=[0], linewidths=2,\n",
        "                               linetypes='--')\n",
        "    plt.scatter(X[:, 0], X[:, 1], s=20, c=y, cmap=plt.cm.Paired)\n",
        "    plt.axis([-40, 40, -40, 40])\n",
        "    plt.colorbar(image)\n",
        "    "
      ],
      "execution_count": null,
      "outputs": []
    },
    {
      "cell_type": "code",
      "metadata": {
        "id": "m-Jdv_6suBqc"
      },
      "source": [
        "pca = PCA(n_components=2)\n",
        "\n",
        "X_train_pca = pca.fit_transform(X_train)\n",
        "X_test_pca = pca.fit_transform(X_test)"
      ],
      "execution_count": null,
      "outputs": []
    },
    {
      "cell_type": "code",
      "metadata": {
        "id": "qNKVnU8f33nm"
      },
      "source": [
        "# print(X_train_pca[:, 0].min())\n",
        "# print(X_train_pca[:, 1].min())\n",
        "# print(X_test_pca[:, 0].min())\n",
        "# print(X_test_pca[:, 1].min())\n",
        "# print(X_train_pca[:, 0].max())\n",
        "# print(X_train_pca[:, 1].max())\n",
        "# print(X_test_pca[:, 0].max())\n",
        "# print(X_test_pca[:, 1].max())\n",
        "# -34 : 1250"
      ],
      "execution_count": null,
      "outputs": []
    },
    {
      "cell_type": "code",
      "metadata": {
        "id": "-7Zw9ATuApcz"
      },
      "source": [
        "# Не работает, так как мерность признакового пространства больше 2. \n",
        "# Снизим мерность пространства\n",
        "\n",
        "pipeline.fit(X=X_train_pca, y=y_train.map({'female': 1, 'male': -1}))\n",
        "figsize(15, 15)"
      ],
      "execution_count": null,
      "outputs": []
    },
    {
      "cell_type": "code",
      "metadata": {
        "colab": {
          "base_uri": "https://localhost:8080/"
        },
        "id": "ZLkx-DBr9lpy",
        "outputId": "ee260147-6d2b-42a3-e2df-c6d0826eb7a8"
      },
      "source": [
        "scoring = cross_val_score(estimator=pipeline, \n",
        "                          X=X_test_pca, \n",
        "                          y=y_test, \n",
        "                          scoring=f1_scorer, \n",
        "                          cv=sss)\n",
        "scoring.mean()"
      ],
      "execution_count": null,
      "outputs": [
        {
          "output_type": "execute_result",
          "data": {
            "text/plain": [
              "0.6167576654259929"
            ]
          },
          "metadata": {},
          "execution_count": 48
        }
      ]
    },
    {
      "cell_type": "code",
      "metadata": {
        "id": "g2l1BpXH-YC1"
      },
      "source": [
        "rr = pipeline.steps[1][1]"
      ],
      "execution_count": null,
      "outputs": []
    },
    {
      "cell_type": "code",
      "metadata": {
        "colab": {
          "base_uri": "https://localhost:8080/"
        },
        "id": "f8iGshdC-zv2",
        "outputId": "fc72cb16-da7c-460e-9fc9-c17958a4059b"
      },
      "source": [
        "rr.coef_"
      ],
      "execution_count": null,
      "outputs": [
        {
          "output_type": "execute_result",
          "data": {
            "text/plain": [
              "array([[-1.78095953,  1.98730755]])"
            ]
          },
          "metadata": {},
          "execution_count": 55
        }
      ]
    },
    {
      "cell_type": "code",
      "metadata": {
        "colab": {
          "base_uri": "https://localhost:8080/",
          "height": 1000
        },
        "id": "qHYt26D18Wlr",
        "outputId": "8f5d6446-3b84-458a-b271-743674fce1ba"
      },
      "source": [
        "plot_boundary(pipeline, X_test_pca, y_test.map({'female': 1, 'male': -1}))"
      ],
      "execution_count": null,
      "outputs": [
        {
          "output_type": "stream",
          "name": "stderr",
          "text": [
            "/usr/local/lib/python3.7/dist-packages/ipykernel_launcher.py:10: UserWarning:\n",
            "\n",
            "No contour levels were found within the data range.\n",
            "\n",
            "/usr/local/lib/python3.7/dist-packages/ipykernel_launcher.py:10: UserWarning:\n",
            "\n",
            "The following kwargs were not used by contour: 'linetypes'\n",
            "\n"
          ]
        },
        {
          "output_type": "display_data",
          "data": {
            "image/png": "[encoded data removed]",
            "text/plain": [
              "<Figure size 1080x1080 with 2 Axes>"
            ]
          },
          "metadata": {
            "needs_background": "light"
          }
        }
      ]
    },
    {
      "cell_type": "markdown",
      "metadata": {
        "id": "tMWO0rtvBJTx"
      },
      "source": [
        "Как видно, с помощью PCA выявить пространство признаков, в котором объекты выборки будут явно разделены, не получилось"
      ]
    },
    {
      "cell_type": "markdown",
      "metadata": {
        "id": "31h08_NXQBaj"
      },
      "source": [
        "Вклад признаков"
      ]
    },
    {
      "cell_type": "code",
      "metadata": {
        "colab": {
          "base_uri": "https://localhost:8080/"
        },
        "id": "nOndb1izUY1S",
        "outputId": "8a517657-eec0-4791-fd40-79132b82a550"
      },
      "source": [
        "estimator = LogisticRegression(random_state=42, penalty='l2', solver='lbfgs')\n",
        "pipeline = make_pipeline(\n",
        "    # FunctionTransformer(dropper, validate=False),                 # добавили удаление признаков в пайплайн;\n",
        "    MinMaxScaler(),\n",
        "    estimator\n",
        ")\n",
        "pipeline"
      ],
      "execution_count": null,
      "outputs": [
        {
          "output_type": "execute_result",
          "data": {
            "text/plain": [
              "Pipeline(steps=[('minmaxscaler', MinMaxScaler()),\n",
              "                ('logisticregression', LogisticRegression(random_state=42))])"
            ]
          },
          "metadata": {},
          "execution_count": 92
        }
      ]
    },
    {
      "cell_type": "code",
      "metadata": {
        "colab": {
          "base_uri": "https://localhost:8080/"
        },
        "id": "vSnZNOfEQh56",
        "outputId": "57f4352b-9dd6-4094-eda6-ebab377bf4ae"
      },
      "source": [
        "pipeline.fit(X=X_train, y=y_train.map({'female': 1, 'male': -1}))"
      ],
      "execution_count": null,
      "outputs": [
        {
          "output_type": "execute_result",
          "data": {
            "text/plain": [
              "Pipeline(steps=[('minmaxscaler', MinMaxScaler()),\n",
              "                ('logisticregression', LogisticRegression(random_state=42))])"
            ]
          },
          "metadata": {},
          "execution_count": 93
        }
      ]
    },
    {
      "cell_type": "code",
      "metadata": {
        "id": "qwEYKqb8QNqw"
      },
      "source": [
        "rr = pipeline.steps[1][1]"
      ],
      "execution_count": null,
      "outputs": []
    },
    {
      "cell_type": "code",
      "metadata": {
        "id": "MWMibefCQY8-"
      },
      "source": [
        "l2_coefs = rr.coef_[0]"
      ],
      "execution_count": null,
      "outputs": []
    },
    {
      "cell_type": "code",
      "metadata": {
        "id": "lTtgvO4NQAwo"
      },
      "source": [
        "def plot_features_coefs(x, y):\n",
        "  fig = plt.figure(figsize=(15, 15))\n",
        "  ax = fig.add_subplot(111)\n",
        "  ax.bar(x, height=y, label='Вклад признаков')\n",
        "  ax.tick_params(axis='x', which='major', rotation=45)\n",
        "  plt.legend()\n",
        "  plt.show()"
      ],
      "execution_count": null,
      "outputs": []
    },
    {
      "cell_type": "code",
      "metadata": {
        "colab": {
          "base_uri": "https://localhost:8080/",
          "height": 896
        },
        "id": "T5B2W0GNUPVt",
        "outputId": "bc07c31a-761f-4348-c72d-f5bb6dd101ac"
      },
      "source": [
        "plot_features_coefs(X_test.columns, l2_coefs)"
      ],
      "execution_count": null,
      "outputs": [
        {
          "output_type": "display_data",
          "data": {
            "image/png": "[encoded data removed]",
            "text/plain": [
              "<Figure size 1080x1080 with 1 Axes>"
            ]
          },
          "metadata": {
            "needs_background": "light"
          }
        }
      ]
    },
    {
      "cell_type": "markdown",
      "metadata": {
        "id": "boap0lBoP5IN"
      },
      "source": [
        "L1 регуляризация (выше была L2 - так как она задается по умолчанию)"
      ]
    },
    {
      "cell_type": "code",
      "metadata": {
        "colab": {
          "base_uri": "https://localhost:8080/"
        },
        "id": "xcofO9EOTUtd",
        "outputId": "f8b062e5-1ebf-4d99-d1e2-1de99bbeed33"
      },
      "source": [
        "estimator = LogisticRegression(random_state=42, penalty='l1', solver='liblinear')\n",
        "pipeline = make_pipeline(\n",
        "    # FunctionTransformer(dropper, validate=False),                 # добавили удаление признаков в пайплайн;\n",
        "    MinMaxScaler(),\n",
        "    estimator\n",
        ")\n",
        "pipeline"
      ],
      "execution_count": null,
      "outputs": [
        {
          "output_type": "execute_result",
          "data": {
            "text/plain": [
              "Pipeline(steps=[('minmaxscaler', MinMaxScaler()),\n",
              "                ('logisticregression',\n",
              "                 LogisticRegression(penalty='l1', random_state=42,\n",
              "                                    solver='liblinear'))])"
            ]
          },
          "metadata": {},
          "execution_count": 96
        }
      ]
    },
    {
      "cell_type": "code",
      "metadata": {
        "id": "80BmCPuzP4fN",
        "colab": {
          "base_uri": "https://localhost:8080/"
        },
        "outputId": "a5a914e5-57ec-4673-dcfe-b4bd67efd81f"
      },
      "source": [
        "pipeline.fit(X=X_train, y=y_train.map({'female': 1, 'male': -1}))"
      ],
      "execution_count": null,
      "outputs": [
        {
          "output_type": "execute_result",
          "data": {
            "text/plain": [
              "Pipeline(steps=[('minmaxscaler', MinMaxScaler()),\n",
              "                ('logisticregression',\n",
              "                 LogisticRegression(penalty='l1', random_state=42,\n",
              "                                    solver='liblinear'))])"
            ]
          },
          "metadata": {},
          "execution_count": 97
        }
      ]
    },
    {
      "cell_type": "code",
      "metadata": {
        "id": "aGHo83wpBWsK"
      },
      "source": [
        "rr = pipeline.steps[1][1]"
      ],
      "execution_count": null,
      "outputs": []
    },
    {
      "cell_type": "code",
      "metadata": {
        "id": "8MrCHwkyT-uP"
      },
      "source": [
        "l1_coefs = rr.coef_[0]"
      ],
      "execution_count": null,
      "outputs": []
    },
    {
      "cell_type": "code",
      "metadata": {
        "colab": {
          "base_uri": "https://localhost:8080/"
        },
        "id": "tSmCoTuqUC4z",
        "outputId": "593c755e-57c0-4617-a274-f81ff5775dff"
      },
      "source": [
        "rr.n_iter_"
      ],
      "execution_count": null,
      "outputs": [
        {
          "output_type": "execute_result",
          "data": {
            "text/plain": [
              "array([23], dtype=int32)"
            ]
          },
          "metadata": {},
          "execution_count": 79
        }
      ]
    },
    {
      "cell_type": "code",
      "metadata": {
        "colab": {
          "base_uri": "https://localhost:8080/",
          "height": 896
        },
        "id": "ainA8Z5HUFr3",
        "outputId": "4fe337ba-ba9f-44d9-924b-58b3b5e87fc3"
      },
      "source": [
        "plot_features_coefs(X_test.columns, l1_coefs)"
      ],
      "execution_count": null,
      "outputs": [
        {
          "output_type": "display_data",
          "data": {
            "image/png": "[encoded data removed]",
            "text/plain": [
              "<Figure size 1080x1080 with 1 Axes>"
            ]
          },
          "metadata": {
            "needs_background": "light"
          }
        }
      ]
    },
    {
      "cell_type": "markdown",
      "metadata": {
        "id": "kcIop_-QU1aU"
      },
      "source": [
        "Оптимальным *C*  можнос считать максимальный вес по модулю "
      ]
    },
    {
      "cell_type": "code",
      "metadata": {
        "id": "J674J0peUVLI"
      },
      "source": [
        "C_opt_l2 = l2_coefs.max()\n",
        "C_opt_l1 = l1_coefs.max()"
      ],
      "execution_count": null,
      "outputs": []
    },
    {
      "cell_type": "code",
      "metadata": {
        "colab": {
          "base_uri": "https://localhost:8080/"
        },
        "id": "VJdu1pZ6VOWk",
        "outputId": "f0f8d337-8a2f-4220-ab06-ff2c71305572"
      },
      "source": [
        "print(f'C_opt_l2: {C_opt_l2}')\n",
        "print(f'C_opt_l1: {C_opt_l1}')"
      ],
      "execution_count": null,
      "outputs": [
        {
          "output_type": "stream",
          "name": "stdout",
          "text": [
            "C_opt_l2: 14.051776680403103\n",
            "C_opt_l1: 24.55718542343419\n"
          ]
        }
      ]
    },
    {
      "cell_type": "code",
      "metadata": {
        "id": "XBhgxGrMVWFw"
      },
      "source": [
        ""
      ],
      "execution_count": null,
      "outputs": []
    }
  ]
}